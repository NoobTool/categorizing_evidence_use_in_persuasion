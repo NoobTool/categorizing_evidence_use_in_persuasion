{
 "cells": [
  {
   "cell_type": "markdown",
   "id": "1807f898",
   "metadata": {},
   "source": [
    "## Libraries"
   ]
  },
  {
   "cell_type": "code",
   "execution_count": 260,
   "id": "cd597e89",
   "metadata": {},
   "outputs": [],
   "source": [
    "import pandas as pd\n",
    "import json\n",
    "import re\n",
    "import matplotlib.pyplot as plt\n",
    "from copy import deepcopy\n",
    "from collections import Counter"
   ]
  },
  {
   "cell_type": "markdown",
   "id": "4bb50f89",
   "metadata": {},
   "source": [
    "## Extracting the data from the dataset"
   ]
  },
  {
   "cell_type": "code",
   "execution_count": 2,
   "id": "ca4bee2d",
   "metadata": {},
   "outputs": [],
   "source": [
    "json_data = []\n",
    "for line in open(r\"/home/rrgoyal/Ram/Sem_III/Research Methods/Implementation/train_pair_data.jsonlist\",'r'):\n",
    "    json_data.append(json.loads(line))"
   ]
  },
  {
   "cell_type": "markdown",
   "id": "4e8e8943",
   "metadata": {},
   "source": [
    "## Creating a dataframe from the data"
   ]
  },
  {
   "cell_type": "code",
   "execution_count": 3,
   "id": "ce810820",
   "metadata": {},
   "outputs": [],
   "source": [
    "df = pd.DataFrame().from_records(json_data)"
   ]
  },
  {
   "cell_type": "markdown",
   "id": "b4b90532",
   "metadata": {},
   "source": [
    "## Extracting the comments out of the dataframe"
   ]
  },
  {
   "cell_type": "code",
   "execution_count": 8,
   "id": "f56da570",
   "metadata": {},
   "outputs": [
    {
     "data": {
      "text/plain": [
       "3456"
      ]
     },
     "execution_count": 8,
     "metadata": {},
     "output_type": "execute_result"
    }
   ],
   "source": [
    "positiveComments=[]\n",
    "for comment_box in [comms['comments'] for comms in df['positive']]:\n",
    "    for comment in comment_box:\n",
    "        positiveComments.append(comment['body'])\n",
    "\n",
    "\n",
    "negativeComments=[]\n",
    "for comment_box in [comms['comments'] for comms in df['negative']]:\n",
    "    for comment in comment_box:\n",
    "        negativeComments.append(comment['body'])\n"
   ]
  },
  {
   "cell_type": "markdown",
   "id": "fa2ade21",
   "metadata": {},
   "source": [
    "## Extracting the comments with some evidence link present"
   ]
  },
  {
   "cell_type": "code",
   "execution_count": 21,
   "id": "d1ab1355",
   "metadata": {},
   "outputs": [],
   "source": [
    "positive_comments_with_evidence = [comment for comment in positiveComments if re.search('http',comment) \n",
    "                                   is not None]\n",
    "        \n",
    "negative_comments_with_evidence = [comment for comment in negativeComments if re.search('http',comment) \n",
    "                                   is not None]"
   ]
  },
  {
   "cell_type": "code",
   "execution_count": 40,
   "id": "0287ea10",
   "metadata": {},
   "outputs": [
    {
     "data": {
      "text/plain": [
       "Text(0.5, 1.0, 'Negative Comments')"
      ]
     },
     "execution_count": 40,
     "metadata": {},
     "output_type": "execute_result"
    },
    {
     "data": {
      "image/png": "[encoded data removed]",
      "text/plain": [
       "<Figure size 720x720 with 2 Axes>"
      ]
     },
     "metadata": {},
     "output_type": "display_data"
    }
   ],
   "source": [
    "fig,ax = plt.subplots(1,2,figsize=(10,10))\n",
    "\n",
    "ax[0].pie([len(positive_comments_with_evidence),len(positiveComments)],autopct=\"%1.0f%%\")\n",
    "ax[0].legend(['No Evidence','Evidence'])\n",
    "ax[0].set_title(\"Positive Comments\",fontsize=15)\n",
    "\n",
    "ax[1].pie([len(negative_comments_with_evidence),len(negativeComments)],autopct=\"%1.0f%%\")\n",
    "ax[1].legend(['No Evidence','Evidence'])\n",
    "ax[1].set_title(\"Negative Comments\",fontsize=15)"
   ]
  },
  {
   "cell_type": "markdown",
   "id": "d6c12d7a",
   "metadata": {},
   "source": [
    "## Extracting urls out of the comments"
   ]
  },
  {
   "cell_type": "code",
   "execution_count": 253,
   "id": "81113810",
   "metadata": {},
   "outputs": [],
   "source": [
    "positive_urls = [re.findall('http[s]?://(?:[a-zA-Z]|[0-9]|[$-_@.&+]|'\n",
    "                           '[!*\\(\\),]|(?:%[0-9a-fA-F][0-9a-fA-F]))+', comment)\n",
    "                 for comment in positive_comments_with_evidence]\n",
    "negative_urls = [re.findall('http[s]?://(?:[a-zA-Z]|[0-9]|[$-_@.&+]|'\n",
    "                           '[!*\\(\\),]|(?:%[0-9a-fA-F][0-9a-fA-F]))+', comment)\n",
    "                 for comment in negative_comments_with_evidence]"
   ]
  },
  {
   "cell_type": "markdown",
   "id": "202a4d34",
   "metadata": {},
   "source": [
    "### Formatting the urls"
   ]
  },
  {
   "cell_type": "code",
   "execution_count": 254,
   "id": "7f43378a",
   "metadata": {},
   "outputs": [],
   "source": [
    "\"\"\" Some of the urls in the positive and negative url list are present inside another list which means\n",
    "    that the positive or negative url list has nested lists \"\"\"\n",
    "\n",
    "# Taking out all the elements of the nested lists.\n",
    "formatted_positive_lists = []\n",
    "for positive_url in positive_urls:\n",
    "    for url in positive_url:\n",
    "        formatted_positive_lists.append(url)\n",
    "        \n",
    "formatted_negative_lists = []\n",
    "for negative_url in negative_urls:\n",
    "    for url in negative_url:\n",
    "        formatted_negative_lists.append(url)\n",
    "        \n",
    "positive_urls = deepcopy(formatted_positive_lists)\n",
    "negative_urls = deepcopy(formatted_negative_lists)"
   ]
  },
  {
   "cell_type": "markdown",
   "id": "5d867e57",
   "metadata": {},
   "source": [
    "## Identifying the type of evidence provided"
   ]
  },
  {
   "cell_type": "code",
   "execution_count": 361,
   "id": "fff96d16",
   "metadata": {},
   "outputs": [],
   "source": [
    "# Getting the last element as the extension of the media is present at the last of link preceded by a '.'\n",
    "positive_evidence = [url.split('.')[-1] for url in positive_urls]\n",
    "negative_evidence = [url.split('.')[-1] for url in negative_urls]\n",
    "\n",
    "# Removing empty elements\n",
    "positive_evidence = list(filter(None,positive_evidence))\n",
    "negative_evidence = list(filter(None,negative_evidence))"
   ]
  },
  {
   "cell_type": "markdown",
   "id": "6001b163",
   "metadata": {},
   "source": [
    "To get the major types of media being sent as an evidence, an elimination approach is used. By looking at the data some of the extensions are recognized and then a search is made to find similar ones. After that, they are replaced in the original string by their extensions and all the redundant characters are removed. This helps to create a list with nothing but the strings of valid extensions so that the Collections.Counter can be used to identify the count of all extensions."
   ]
  },
  {
   "cell_type": "code",
   "execution_count": 362,
   "id": "2042b7f6",
   "metadata": {},
   "outputs": [],
   "source": [
    "positive_extensions = []\n",
    "negative_extensions = []\n",
    "\n",
    "positive_indices = []\n",
    "negative_indices = []\n",
    "\n",
    "def remove_and_append(i,index_type,extension,evidence):\n",
    "        if len(re.findall(r'.*{}.*'.format(extension),evidence.lower()))>0:\n",
    "            index_type.append(i)\n",
    "            return extension\n",
    "        \n",
    "def delete_indices():\n",
    "    global positive_indices,negative_indices\n",
    "    \n",
    "    for index in sorted(positive_indices,reverse=True):\n",
    "        del positive_evidence[index]\n",
    "        \n",
    "    for index in sorted(negative_indices,reverse=True):\n",
    "        del negative_evidence[index]\n",
    "        \n",
    "    positive_indices=[]\n",
    "    negative_indices = []\n",
    "\n",
    "extensions = ['pdf','htm','jpg','png','php','svg','gif','aspx','watch\\?v','/wiki','/article','/video','/blog'\n",
    "             ,'edu/','news?r?o?o?m/','forums/','papers/','reports/','com/story/','stories/','/post/',\n",
    "              'r/.+/comments/','txt','jsp','asp','books\\?','/research?/']\n",
    "\n",
    "for extension in extensions:\n",
    "    positive_extensions += [remove_and_append(i,positive_indices,extension,evidence) \n",
    "                                for i,evidence in enumerate(positive_evidence)]\n",
    "    \n",
    "    negative_extensions += [remove_and_append(i,negative_indices,extension,evidence2) \n",
    "                                for i,evidence2 in enumerate(negative_evidence)]\n",
    "    \n",
    "    delete_indices()\n",
    "    \n",
    "positive_extensions = list(filter(None,positive_extensions))\n",
    "negative_extensions = list(filter(None,negative_extensions))"
   ]
  },
  {
   "cell_type": "code",
   "execution_count": 363,
   "id": "2392851c",
   "metadata": {},
   "outputs": [],
   "source": [
    "positive_types = Counter(positive_extensions)\n",
    "negative_types = Counter(negative_extensions)"
   ]
  },
  {
   "cell_type": "code",
   "execution_count": 364,
   "id": "c92dc4cf",
   "metadata": {},
   "outputs": [],
   "source": [
    "def combine_keys(_types,new_key_name,old_keys_list):\n",
    "    _types[new_key_name] = 0\n",
    "    for key in old_keys_list:\n",
    "        _types[new_key_name] += _types[key]\n",
    "        del _types[key]\n",
    "        \n",
    "    return _types"
   ]
  },
  {
   "cell_type": "code",
   "execution_count": 365,
   "id": "59b63dad",
   "metadata": {
    "scrolled": true
   },
   "outputs": [],
   "source": [
    "# Configuring positive types\n",
    "\n",
    "positive_types = combine_keys(positive_types,'images',['jpg','png','jpeg','svg','gif'])\n",
    "positive_types = combine_keys(positive_types,'text',['pdf','/wiki','/article','papers/','reports/','txt','/research?/','books\\?'])\n",
    "positive_types = combine_keys(positive_types,'pages',['htm','php','aspx','/blog','edu/','/post/','jsp','asp','forums/'])\n",
    "positive_types = combine_keys(positive_types,'videos',['watch\\?v','/video','com/story/','stories/'])\n",
    "positive_types = combine_keys(positive_types,'comments',['r/.+/comments/'])\n",
    "positive_types = combine_keys(positive_types,'news',['news?r?o?o?m/'])\n",
    "\n",
    "# Configuring negative types\n",
    "\n",
    "negative_types = combine_keys(negative_types,'images',['jpg','png','jpeg','svg','gif'])\n",
    "negative_types = combine_keys(negative_types,'text',['pdf','/wiki','/article','papers/','reports/','txt','/research?/','books\\?'])\n",
    "negative_types = combine_keys(negative_types,'pages',['htm','php','aspx','/blog','edu/','/post/','jsp','asp','forums/'])\n",
    "negative_types = combine_keys(negative_types,'videos',['watch\\?v','/video','com/story/','stories/'])\n",
    "negative_types = combine_keys(negative_types,'comments',['r/.+/comments/'])\n",
    "negative_types = combine_keys(negative_types,'news',['news?r?o?o?m/'])"
   ]
  },
  {
   "cell_type": "code",
   "execution_count": 382,
   "id": "dadc7612",
   "metadata": {},
   "outputs": [
    {
     "data": {
      "text/plain": [
       "Text(0.5, 1.0, 'Negative Comments')"
      ]
     },
     "execution_count": 382,
     "metadata": {},
     "output_type": "execute_result"
    },
    {
     "data": {
      "image/png": "[encoded data removed]",
      "text/plain": [
       "<Figure size 720x720 with 2 Axes>"
      ]
     },
     "metadata": {},
     "output_type": "display_data"
    }
   ],
   "source": [
    "fig,ax = plt.subplots(1,2,figsize=(10,10))\n",
    "\n",
    "positive_types = dict(positive_types)\n",
    "ax[0].pie(positive_types.values(),autopct=\"%1.0f%%\")\n",
    "ax[0].legend(positive_types.keys(),loc = \"upper right\",ncol=2)\n",
    "ax[0].set_title(\"Positive Comments\",fontsize=15)\n",
    "\n",
    "negative_types = dict(negative_types)\n",
    "ax[1].pie(negative_types.values(),autopct=\"%1.0f%%\")\n",
    "ax[1].legend(negative_types.keys(),loc = \"upper right\",ncol=2)\n",
    "ax[1].set_title(\"Negative Comments\",fontsize=15)"
   ]
  },
  {
   "cell_type": "code",
   "execution_count": null,
   "id": "a6c7ca24",
   "metadata": {},
   "outputs": [],
   "source": []
  }
 ],
 "metadata": {
  "kernelspec": {
   "display_name": "Python 3 (ipykernel)",
   "language": "python",
   "name": "python3"
  },
  "language_info": {
   "codemirror_mode": {
    "name": "ipython",
    "version": 3
   },
   "file_extension": ".py",
   "mimetype": "text/x-python",
   "name": "python",
   "nbconvert_exporter": "python",
   "pygments_lexer": "ipython3",
   "version": "3.9.7"
  }
 },
 "nbformat": 4,
 "nbformat_minor": 5
}
