{
 "cells": [
  {
   "cell_type": "markdown",
   "id": "3a8b9412",
   "metadata": {},
   "source": [
    "## Libraries"
   ]
  },
  {
   "cell_type": "code",
   "execution_count": 260,
   "id": "9482aeed",
   "metadata": {},
   "outputs": [],
   "source": [
    "import pandas as pd\n",
    "import json\n",
    "import re\n",
    "import matplotlib.pyplot as plt\n",
    "from copy import deepcopy\n",
    "from collections import Counter"
   ]
  },
  {
   "cell_type": "markdown",
   "id": "e5ab5a72",
   "metadata": {},
   "source": [
    "## Extracting the data from the dataset"
   ]
  },
  {
   "cell_type": "code",
   "execution_count": 2,
   "id": "12a05b0f",
   "metadata": {},
   "outputs": [],
   "source": [
    "json_data = []\n",
    "for line in open(r\"/home/rrgoyal/Ram/Sem_III/Research Methods/Implementation/train_pair_data.jsonlist\",'r'):\n",
    "    json_data.append(json.loads(line))"
   ]
  },
  {
   "cell_type": "markdown",
   "id": "86072de8",
   "metadata": {},
   "source": [
    "## Creating a dataframe from the data"
   ]
  },
  {
   "cell_type": "code",
   "execution_count": 3,
   "id": "b6e39681",
   "metadata": {},
   "outputs": [],
   "source": [
    "df = pd.DataFrame().from_records(json_data)"
   ]
  },
  {
   "cell_type": "markdown",
   "id": "83077b82",
   "metadata": {},
   "source": [
    "## Extracting the comments out of the dataframe"
   ]
  },
  {
   "cell_type": "code",
   "execution_count": 8,
   "id": "3c265b21",
   "metadata": {},
   "outputs": [
    {
     "data": {
      "text/plain": [
       "3456"
      ]
     },
     "execution_count": 8,
     "metadata": {},
     "output_type": "execute_result"
    }
   ],
   "source": [
    "positiveComments=[]\n",
    "for comment_box in [comms['comments'] for comms in df['positive']]:\n",
    "    for comment in comment_box:\n",
    "        positiveComments.append(comment['body'])\n",
    "\n",
    "\n",
    "negativeComments=[]\n",
    "for comment_box in [comms['comments'] for comms in df['negative']]:\n",
    "    for comment in comment_box:\n",
    "        negativeComments.append(comment['body'])\n"
   ]
  },
  {
   "cell_type": "markdown",
   "id": "758b84e0",
   "metadata": {},
   "source": [
    "## Extracting the comments with some evidence link present"
   ]
  },
  {
   "cell_type": "code",
   "execution_count": 21,
   "id": "884205af",
   "metadata": {},
   "outputs": [],
   "source": [
    "positive_comments_with_evidence = [comment for comment in positiveComments if re.search('http',comment) \n",
    "                                   is not None]\n",
    "        \n",
    "negative_comments_with_evidence = [comment for comment in negativeComments if re.search('http',comment) \n",
    "                                   is not None]"
   ]
  },
  {
   "cell_type": "code",
   "execution_count": 40,
   "id": "a573150b",
   "metadata": {},
   "outputs": [
    {
     "data": {
      "text/plain": [
       "Text(0.5, 1.0, 'Negative Comments')"
      ]
     },
     "execution_count": 40,
     "metadata": {},
     "output_type": "execute_result"
    },
    {
     "data": {
      "image/png": "[encoded data removed]",
      "text/plain": [
       "<Figure size 720x720 with 2 Axes>"
      ]
     },
     "metadata": {},
     "output_type": "display_data"
    }
   ],
   "source": [
    "fig,ax = plt.subplots(1,2,figsize=(10,10))\n",
    "\n",
    "ax[0].pie([len(positive_comments_with_evidence),len(positiveComments)],autopct=\"%1.0f%%\")\n",
    "ax[0].legend(['No Evidence','Evidence'])\n",
    "ax[0].set_title(\"Positive Comments\",fontsize=15)\n",
    "\n",
    "ax[1].pie([len(negative_comments_with_evidence),len(negativeComments)],autopct=\"%1.0f%%\")\n",
    "ax[1].legend(['No Evidence','Evidence'])\n",
    "ax[1].set_title(\"Negative Comments\",fontsize=15)"
   ]
  },
  {
   "cell_type": "markdown",
   "id": "03b22cfd",
   "metadata": {},
   "source": [
    "## Extracting urls out of the comments"
   ]
  },
  {
   "cell_type": "code",
   "execution_count": 253,
   "id": "ff7ab5ed",
   "metadata": {},
   "outputs": [],
   "source": [
    "positive_urls = [re.findall('http[s]?://(?:[a-zA-Z]|[0-9]|[$-_@.&+]|'\n",
    "                           '[!*\\(\\),]|(?:%[0-9a-fA-F][0-9a-fA-F]))+', comment)\n",
    "                 for comment in positive_comments_with_evidence]\n",
    "negative_urls = [re.findall('http[s]?://(?:[a-zA-Z]|[0-9]|[$-_@.&+]|'\n",
    "                           '[!*\\(\\),]|(?:%[0-9a-fA-F][0-9a-fA-F]))+', comment)\n",
    "                 for comment in negative_comments_with_evidence]"
   ]
  },
  {
   "cell_type": "markdown",
   "id": "7ae8dcc9",
   "metadata": {},
   "source": [
    "### Formatting the urls"
   ]
  },
  {
   "cell_type": "code",
   "execution_count": 254,
   "id": "81935827",
   "metadata": {},
   "outputs": [],
   "source": [
    "\"\"\" Some of the urls in the positive and negative url list are present inside another list which means\n",
    "    that the positive or negative url list has nested lists \"\"\"\n",
    "\n",
    "# Taking out all the elements of the nested lists.\n",
    "formatted_positive_lists = []\n",
    "for positive_url in positive_urls:\n",
    "    for url in positive_url:\n",
    "        formatted_positive_lists.append(url)\n",
    "        \n",
    "formatted_negative_lists = []\n",
    "for negative_url in negative_urls:\n",
    "    for url in negative_url:\n",
    "        formatted_negative_lists.append(url)\n",
    "        \n",
    "positive_urls = deepcopy(formatted_positive_lists)\n",
    "negative_urls = deepcopy(formatted_negative_lists)"
   ]
  },
  {
   "cell_type": "markdown",
   "id": "95981c5b",
   "metadata": {},
   "source": [
    "## Identifying the type of evidence provided"
   ]
  },
  {
   "cell_type": "code",
   "execution_count": 270,
   "id": "5fccc053",
   "metadata": {},
   "outputs": [],
   "source": [
    "# Getting the last element as the extension of the media is present at the last of link preceded by a '.'\n",
    "positive_evidence = [url.split('.')[-1] for url in positive_urls]\n",
    "\n",
    "# Removing empty elements\n",
    "positive_evidence = list(filter(None,positive_evidence))"
   ]
  },
  {
   "cell_type": "markdown",
   "id": "87419ae8",
   "metadata": {},
   "source": [
    "To get the major types of media being sent as an evidence, an elimination approach is used. By looking at the data some of the extensions are recognized and then a search is made to find similar ones. After that, they are replaced in the original string by their extensions and all the redundant characters are removed. This helps to create a list with nothing but the strings of valid extensions so that the Collections.Counter can be used to identify the count of all extensions."
   ]
  },
  {
   "cell_type": "code",
   "execution_count": 309,
   "id": "592af597",
   "metadata": {},
   "outputs": [
    {
     "name": "stdout",
     "output_type": "stream",
     "text": [
      "412\n"
     ]
    }
   ],
   "source": [
    "positive_extensions = []\n",
    "positive_indices = []\n",
    "print(len(positive_evidence))\n",
    "\n",
    "def remove_and_append(i,extension,evidence):\n",
    "        if len(re.findall(r'.*{}.*'.format(extension),evidence.lower()))>0:\n",
    "            positive_indices.append(i)\n",
    "            return extension\n",
    "        \n",
    "def delete_indices():\n",
    "    global positive_indices\n",
    "    for index in sorted(positive_indices,reverse=True):\n",
    "        del positive_evidence[index]\n",
    "        \n",
    "    positive_indices=[]\n",
    "\n",
    "extensions = ['pdf','htm','jpg','png','php','svg','gif','aspx','watch\\?v','/wiki','/article','/video','/blog'\n",
    "             ,'edu/','news?r?o?o?m/','forums/','papers/','reports/','com/story/','stories/','/post/',\n",
    "              'r/.+/comments/','txt','jsp','asp','books\\?','/research?/']\n",
    "\n",
    "for extension in extensions:\n",
    "    positive_extensions += [remove_and_append(i,extension,evidence) \n",
    "                                for i,evidence in enumerate(positive_evidence)]\n",
    "    \n",
    "    delete_indices()\n",
    "    \n",
    "positive_extensions = list(filter(None,positive_extensions))"
   ]
  },
  {
   "cell_type": "code",
   "execution_count": 310,
   "id": "854e7917",
   "metadata": {},
   "outputs": [],
   "source": [
    "_types = Counter(positive_extensions)"
   ]
  },
  {
   "cell_type": "code",
   "execution_count": 311,
   "id": "1fb12ad2",
   "metadata": {},
   "outputs": [
    {
     "data": {
      "text/plain": [
       "Counter({'/research?/': 1})"
      ]
     },
     "execution_count": 311,
     "metadata": {},
     "output_type": "execute_result"
    }
   ],
   "source": [
    "_types"
   ]
  },
  {
   "cell_type": "code",
   "execution_count": null,
   "id": "383122f3",
   "metadata": {
    "scrolled": true
   },
   "outputs": [],
   "source": []
  },
  {
   "cell_type": "code",
   "execution_count": null,
   "id": "54379b58",
   "metadata": {},
   "outputs": [],
   "source": []
  }
 ],
 "metadata": {
  "kernelspec": {
   "display_name": "Python 3 (ipykernel)",
   "language": "python",
   "name": "python3"
  },
  "language_info": {
   "codemirror_mode": {
    "name": "ipython",
    "version": 3
   },
   "file_extension": ".py",
   "mimetype": "text/x-python",
   "name": "python",
   "nbconvert_exporter": "python",
   "pygments_lexer": "ipython3",
   "version": "3.9.7"
  }
 },
 "nbformat": 4,
 "nbformat_minor": 5
}
